{
  "cells": [
    {
      "cell_type": "markdown",
      "metadata": {},
      "source": [
        "# Interaction approximations across orbital configurations\n\n",
        "This notebook compares the exact Legendre-series evaluation of the vector resonant relaxation interaction with its asymptotic approximations (with and without low-order corrections) for representative orbital configurations."
      ]
    },
    {
      "cell_type": "code",
      "metadata": {},
      "execution_count": null,
      "outputs": [],
      "source": [
        "import numpy as np\n",
        "import matplotlib.pyplot as plt\n\n",
        "from vrr_Omegas import (\n",
        "    Orbit,\n",
        "    OrbitPair,\n",
        "    ExactSeriesEvaluator,\n",
        "    AsymptoticEvaluator,\n",
        "    AsymptoticWithCorrectionsEvaluator,\n",
        ")\n\n",
        "plt.style.use('seaborn-v0_8-colorblind')\n"
      ]
    },
    {
      "cell_type": "code",
      "metadata": {},
      "execution_count": null,
      "outputs": [],
      "source": [
        "# Define representative orbital configurations\n",
        "M_CENTRAL = 1.0\n",
        "G_CONST = 1.0\n\n",
        "configurations = {\n",
        "    \"Circular/Circular\": {\n",
        "        \"primary\": Orbit(a=1.0, e=0.0, m=1.0),\n",
        "        \"secondary\": Orbit(a=2.5, e=0.0, m=1.5),\n",
        "    },\n",
        "    \"Eccentric (non-overlap)\": {\n",
        "        \"primary\": Orbit(a=1.0, e=0.2, m=1.1),\n",
        "        \"secondary\": Orbit(a=2.5, e=0.4, m=1.3),\n",
        "    },\n",
        "    \"Eccentric (overlap)\": {\n",
        "        \"primary\": Orbit(a=1.0, e=0.6, m=1.0),\n",
        "        \"secondary\": Orbit(a=1.8, e=0.5, m=1.4),\n",
        "    },\n",
        "    \"Mixed (circ/ecc)\": {\n",
        "        \"primary\": Orbit(a=1.0, e=0.0, m=1.0),\n",
        "        \"secondary\": Orbit(a=2.0, e=0.5, m=1.2),\n",
        "    },\n",
        "}\n\n",
        "cos_grid = np.linspace(-0.95, 0.95, 160)\n\n",
        "exact = ExactSeriesEvaluator(ell_max=30)\n",
        "asymptotic = AsymptoticEvaluator()\n",
        "hybrid = AsymptoticWithCorrectionsEvaluator(lmax_correction=6)\n\n",
        "evaluators = {\n",
        "    \"Exact\": exact,\n",
        "    \"Asymptotic\": asymptotic,\n",
        "    \"Asymp. + corr.\": hybrid,\n",
        "}\n\n",
        "results = {}\n",
        "for label, cfg in configurations.items():\n",
        "    data = {name: {\"hamiltonian\": [], \"omega\": []} for name in evaluators}\n",
        "    for cos_inc in cos_grid:\n",
        "        pair = OrbitPair(\n",
        "            cfg[\"primary\"],\n",
        "            cfg[\"secondary\"],\n",
        "            cos_inc,\n",
        "            G=G_CONST,\n",
        "            M_central=M_CENTRAL,\n",
        "        )\n",
        "        for name, evaluator in evaluators.items():\n",
        "            res = evaluator.evaluate_pair(pair)\n",
        "            data[name][\"hamiltonian\"].append(res.hamiltonian)\n",
        "            data[name][\"omega\"].append(res.omega)\n",
        "    for name in evaluators:\n",
        "        data[name][\"hamiltonian\"] = np.array(data[name][\"hamiltonian\"])\n",
        "        data[name][\"omega\"] = np.array(data[name][\"omega\"])\n",
        "    results[label] = data\n"
      ]
    },
    {
      "cell_type": "code",
      "metadata": {},
      "execution_count": null,
      "outputs": [],
      "source": [
        "# Plot Hamiltonian and precession frequency comparisons\n",
        "fig, axes = plt.subplots(2, len(configurations), figsize=(4 * len(configurations), 6), sharex='col')\n\n",
        "method_styles = {\n",
        "    \"Exact\": dict(color='black', linewidth=2.0),\n",
        "    \"Asymptotic\": dict(color='tab:blue', linestyle='--'),\n",
        "    \"Asymp. + corr.\": dict(color='tab:orange', linestyle='-.'),\n",
        "}\n\n",
        "for col, (config_label, data) in enumerate(results.items()):\n",
        "    ax_H = axes[0, col]\n",
        "    ax_O = axes[1, col]\n\n",
        "    for method_name, series in data.items():\n",
        "        style = method_styles.get(method_name, {})\n",
        "        ax_H.plot(cos_grid, series[\"hamiltonian\"], label=method_name, **style)\n",
        "        ax_O.plot(cos_grid, series[\"omega\"], label=method_name, **style)\n\n",
        "    ax_H.set_title(config_label)\n",
        "    ax_H.set_ylabel('Hamiltonian')\n",
        "    ax_O.set_ylabel(r'$\\Omega$')\n",
        "    ax_O.set_xlabel(r'$\\cos i$')\n",
        "    ax_H.grid(alpha=0.2)\n",
        "    ax_O.grid(alpha=0.2)\n\n",
        "    if col > 0:\n",
        "        ax_H.set_ylabel('')\n",
        "        ax_O.set_ylabel('')\n\n",
        "handles, labels = axes[0, 0].get_legend_handles_labels()\n",
        "fig.legend(handles, labels, loc='upper center', ncol=len(evaluators), bbox_to_anchor=(0.5, 1.02))\n",
        "fig.tight_layout(rect=[0, 0, 1, 0.97])\n",
        "plt.show()\n"
      ]
    }
  ],
  "metadata": {
    "kernelspec": {
      "display_name": "Python 3",
      "language": "python",
      "name": "python3"
    },
    "language_info": {
      "name": "python",
      "version": "3.x"
    }
  },
  "nbformat": 4,
  "nbformat_minor": 5
}